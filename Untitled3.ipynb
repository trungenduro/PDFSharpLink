{
  "nbformat": 4,
  "nbformat_minor": 0,
  "metadata": {
    "colab": {
      "provenance": [],
      "authorship_tag": "ABX9TyNtO71LIXC5c0Y6iV8RR4sE",
      "include_colab_link": true
    },
    "kernelspec": {
      "name": "python3",
      "display_name": "Python 3"
    },
    "language_info": {
      "name": "python"
    }
  },
  "cells": [
    {
      "cell_type": "markdown",
      "metadata": {
        "id": "view-in-github",
        "colab_type": "text"
      },
      "source": [
        "<a href=\"https://colab.research.google.com/github/trungenduro/PDFSharpLink/blob/main/Untitled3.ipynb\" target=\"_parent\"><img src=\"https://colab.research.google.com/assets/colab-badge.svg\" alt=\"Open In Colab\"/></a>"
      ]
    },
    {
      "cell_type": "code",
      "execution_count": 2,
      "metadata": {
        "id": "Hya-g2oVh2I5"
      },
      "outputs": [],
      "source": [
        "import tensorflow as tf\n",
        "import numpy as np\n",
        "from tensorflow import keras\n",
        "import matplotlib.pyplot as plt\n",
        "\n",
        "\n"
      ]
    },
    {
      "cell_type": "code",
      "source": [
        "print(tf.__version__)"
      ],
      "metadata": {
        "colab": {
          "base_uri": "https://localhost:8080/"
        },
        "id": "BPruu6GxjI3E",
        "outputId": "ab0f5f18-56ac-4947-f814-f728d4920dfc"
      },
      "execution_count": 3,
      "outputs": [
        {
          "output_type": "stream",
          "name": "stdout",
          "text": [
            "2.12.0\n"
          ]
        }
      ]
    },
    {
      "cell_type": "code",
      "source": [
        "from keras.utils.image_utils import keras_export\n",
        "(X_train,y_train),(X_test,Y_test) = keras.datasets.mnist.load_data()"
      ],
      "metadata": {
        "colab": {
          "base_uri": "https://localhost:8080/"
        },
        "id": "ogR13qApjZ_B",
        "outputId": "117fdc0e-0781-46c1-eb13-cb6bc2baec38"
      },
      "execution_count": 44,
      "outputs": [
        {
          "output_type": "stream",
          "name": "stdout",
          "text": [
            "Downloading data from https://storage.googleapis.com/tensorflow/tf-keras-datasets/mnist.npz\n",
            "11490434/11490434 [==============================] - 1s 0us/step\n"
          ]
        }
      ]
    },
    {
      "cell_type": "code",
      "source": [
        "X_train.shape\n",
        "\n"
      ],
      "metadata": {
        "colab": {
          "base_uri": "https://localhost:8080/"
        },
        "id": "kTROtQlqjy57",
        "outputId": "fd6b9e36-0e84-474c-aa44-bbebee9d4036"
      },
      "execution_count": 45,
      "outputs": [
        {
          "output_type": "execute_result",
          "data": {
            "text/plain": [
              "(60000, 28, 28)"
            ]
          },
          "metadata": {},
          "execution_count": 45
        }
      ]
    },
    {
      "cell_type": "code",
      "source": [
        "plt.imshow(X_train[10])"
      ],
      "metadata": {
        "id": "B8R08lDlmqUJ"
      },
      "execution_count": null,
      "outputs": []
    },
    {
      "cell_type": "code",
      "source": [
        "xx = X_train[0]/255\n",
        "plt.imshow(xx)\n"
      ],
      "metadata": {
        "id": "YcXaoJJrsHTB"
      },
      "execution_count": null,
      "outputs": []
    },
    {
      "cell_type": "code",
      "source": [
        "plt.imshow(X_train[41])"
      ],
      "metadata": {
        "id": "F65Li3ITskw1"
      },
      "execution_count": null,
      "outputs": []
    },
    {
      "cell_type": "code",
      "source": [
        "X_train=X_train.astype(np.float32) / 255"
      ],
      "metadata": {
        "id": "kSmknk3ltLy6"
      },
      "execution_count": 47,
      "outputs": []
    },
    {
      "cell_type": "code",
      "source": [
        "X_train.dtype"
      ],
      "metadata": {
        "colab": {
          "base_uri": "https://localhost:8080/"
        },
        "id": "IXRpGKVQtY0b",
        "outputId": "c9033a43-0f5f-468f-c1e9-89ac1c3e3de2"
      },
      "execution_count": 8,
      "outputs": [
        {
          "output_type": "execute_result",
          "data": {
            "text/plain": [
              "dtype('float32')"
            ]
          },
          "metadata": {},
          "execution_count": 8
        }
      ]
    },
    {
      "cell_type": "code",
      "source": [
        "y_train1 = keras.utils.to_categorical(y_train,10)"
      ],
      "metadata": {
        "id": "gbVZ5hqNtypD"
      },
      "execution_count": 51,
      "outputs": []
    },
    {
      "cell_type": "code",
      "source": [
        "y_train1[0]\n",
        "y_train[0]"
      ],
      "metadata": {
        "colab": {
          "base_uri": "https://localhost:8080/"
        },
        "id": "IwiZhQajvbnW",
        "outputId": "dc0a704e-3c17-42da-e79d-54bf314562e7"
      },
      "execution_count": 52,
      "outputs": [
        {
          "output_type": "execute_result",
          "data": {
            "text/plain": [
              "5"
            ]
          },
          "metadata": {},
          "execution_count": 52
        }
      ]
    },
    {
      "cell_type": "code",
      "source": [
        "from tensorflow.keras import layers\n",
        "model=keras.models.Sequential([\n",
        "    layers.Flatten(input_shape=(28,28)) ,\n",
        "       layers.Dense(512,activation='relu'),\n",
        "     layers.Dense(128,activation='relu'),\n",
        "     layers.Dense(10, activation='softmax')\n",
        "])\n",
        "model.summary()"
      ],
      "metadata": {
        "colab": {
          "base_uri": "https://localhost:8080/"
        },
        "id": "E3j-g57-v8sq",
        "outputId": "e272f3db-5f05-486b-a1d2-b7c4077f1445"
      },
      "execution_count": 53,
      "outputs": [
        {
          "output_type": "stream",
          "name": "stdout",
          "text": [
            "Model: \"sequential_2\"\n",
            "_________________________________________________________________\n",
            " Layer (type)                Output Shape              Param #   \n",
            "=================================================================\n",
            " flatten_2 (Flatten)         (None, 784)               0         \n",
            "                                                                 \n",
            " dense_6 (Dense)             (None, 512)               401920    \n",
            "                                                                 \n",
            " dense_7 (Dense)             (None, 128)               65664     \n",
            "                                                                 \n",
            " dense_8 (Dense)             (None, 10)                1290      \n",
            "                                                                 \n",
            "=================================================================\n",
            "Total params: 468,874\n",
            "Trainable params: 468,874\n",
            "Non-trainable params: 0\n",
            "_________________________________________________________________\n"
          ]
        }
      ]
    },
    {
      "cell_type": "code",
      "source": [
        "model.compile(optimizer='rmsprop', loss='categorical_crossentropy', metrics=['accuracy'])\n",
        "hist=model.fit(X_train, y_train1, epochs=10,batch_size=256,validation_split=0.1)"
      ],
      "metadata": {
        "colab": {
          "base_uri": "https://localhost:8080/"
        },
        "id": "buLBv-RZ1kYs",
        "outputId": "bb5c101b-4fe7-41ef-dc05-c9de24c4f40c"
      },
      "execution_count": 54,
      "outputs": [
        {
          "output_type": "stream",
          "name": "stdout",
          "text": [
            "Epoch 1/10\n",
            "211/211 [==============================] - 4s 18ms/step - loss: 0.3255 - accuracy: 0.9016 - val_loss: 0.1301 - val_accuracy: 0.9618\n",
            "Epoch 2/10\n",
            "211/211 [==============================] - 5s 23ms/step - loss: 0.1213 - accuracy: 0.9628 - val_loss: 0.1041 - val_accuracy: 0.9697\n",
            "Epoch 3/10\n",
            "211/211 [==============================] - 4s 17ms/step - loss: 0.0763 - accuracy: 0.9759 - val_loss: 0.0770 - val_accuracy: 0.9760\n",
            "Epoch 4/10\n",
            "211/211 [==============================] - 4s 17ms/step - loss: 0.0549 - accuracy: 0.9829 - val_loss: 0.0864 - val_accuracy: 0.9737\n",
            "Epoch 5/10\n",
            "211/211 [==============================] - 5s 22ms/step - loss: 0.0402 - accuracy: 0.9871 - val_loss: 0.0680 - val_accuracy: 0.9807\n",
            "Epoch 6/10\n",
            "211/211 [==============================] - 4s 18ms/step - loss: 0.0297 - accuracy: 0.9910 - val_loss: 0.0713 - val_accuracy: 0.9775\n",
            "Epoch 7/10\n",
            "211/211 [==============================] - 4s 17ms/step - loss: 0.0215 - accuracy: 0.9934 - val_loss: 0.0670 - val_accuracy: 0.9817\n",
            "Epoch 8/10\n",
            "211/211 [==============================] - 4s 17ms/step - loss: 0.0157 - accuracy: 0.9951 - val_loss: 0.0760 - val_accuracy: 0.9798\n",
            "Epoch 9/10\n",
            "211/211 [==============================] - 5s 22ms/step - loss: 0.0124 - accuracy: 0.9961 - val_loss: 0.0676 - val_accuracy: 0.9818\n",
            "Epoch 10/10\n",
            "211/211 [==============================] - 4s 17ms/step - loss: 0.0090 - accuracy: 0.9973 - val_loss: 0.0636 - val_accuracy: 0.9835\n"
          ]
        }
      ]
    },
    {
      "cell_type": "code",
      "source": [
        "hist.history.keys()"
      ],
      "metadata": {
        "colab": {
          "base_uri": "https://localhost:8080/"
        },
        "id": "J-uKAg3z8JVZ",
        "outputId": "0b83456f-86de-483c-f643-df4c68b932c3"
      },
      "execution_count": 13,
      "outputs": [
        {
          "output_type": "execute_result",
          "data": {
            "text/plain": [
              "dict_keys(['loss', 'accuracy', 'val_loss', 'val_accuracy'])"
            ]
          },
          "metadata": {},
          "execution_count": 13
        }
      ]
    },
    {
      "cell_type": "code",
      "source": [
        "history=hist\n",
        "plt.figure(1,figsize=(10, 4))\n",
        "plt.subplots_adjust(wspace=0.5)\n",
        "plt.subplot(1, 2, 1)\n",
        "plt.plot(history.history['accuracy'], label='training', color='black')\n",
        "\n",
        "plt.ylim(0, 1)\n",
        "plt.legend()\n",
        "plt.grid()\n",
        "plt.xlabel('epoch')\n",
        "plt.ylabel('accuracy')\n",
        "plt.show()"
      ],
      "metadata": {
        "id": "FrD2OG_T7Olb"
      },
      "execution_count": null,
      "outputs": []
    },
    {
      "cell_type": "code",
      "source": [
        "X_test=X_test.astype(np.float32)/255"
      ],
      "metadata": {
        "id": "9-VzyWtUG8eF"
      },
      "execution_count": 15,
      "outputs": []
    },
    {
      "cell_type": "code",
      "source": [
        "ytest=model.predict(X_test[:100])"
      ],
      "metadata": {
        "colab": {
          "base_uri": "https://localhost:8080/"
        },
        "id": "4xx03Ev4HQfY",
        "outputId": "695215ad-1d67-48cb-c677-50cd9c633ae8"
      },
      "execution_count": 56,
      "outputs": [
        {
          "output_type": "stream",
          "name": "stdout",
          "text": [
            "4/4 [==============================] - 0s 4ms/step\n"
          ]
        }
      ]
    },
    {
      "cell_type": "code",
      "source": [
        "ytest1 = np.argmax(ytest,axis=1)\n",
        "ytest1"
      ],
      "metadata": {
        "colab": {
          "base_uri": "https://localhost:8080/"
        },
        "id": "8GPXEClJHu5R",
        "outputId": "cca06165-18fa-43fc-9000-661fe16c5318"
      },
      "execution_count": 57,
      "outputs": [
        {
          "output_type": "execute_result",
          "data": {
            "text/plain": [
              "array([7, 2, 1, 0, 4, 1, 4, 9, 5, 9, 0, 6, 9, 0, 1, 5, 9, 7, 3, 4, 9, 6,\n",
              "       6, 5, 4, 0, 7, 4, 0, 1, 3, 1, 3, 4, 7, 2, 7, 1, 2, 1, 1, 7, 4, 2,\n",
              "       3, 5, 1, 2, 4, 4, 6, 3, 5, 5, 6, 0, 4, 1, 9, 5, 7, 8, 9, 3, 7, 4,\n",
              "       6, 4, 3, 0, 7, 0, 2, 9, 1, 7, 3, 2, 9, 7, 7, 6, 2, 7, 8, 4, 7, 3,\n",
              "       6, 1, 3, 6, 9, 3, 1, 4, 1, 7, 6, 9])"
            ]
          },
          "metadata": {},
          "execution_count": 57
        }
      ]
    },
    {
      "cell_type": "code",
      "source": [
        "plt.imshow(X_test[0])\n",
        "className=('T-shirt/top',\n",
        "'Trouser',\n",
        "'Pullover',\n",
        "'Dress',\n",
        "'Coat','Sandal','Shirt','Sneaker','Bag','Ankle boot')"
      ],
      "metadata": {
        "id": "GXcCdHuvIGCK"
      },
      "execution_count": null,
      "outputs": []
    },
    {
      "cell_type": "code",
      "source": [
        "className[ytest1[0]]"
      ],
      "metadata": {
        "colab": {
          "base_uri": "https://localhost:8080/",
          "height": 35
        },
        "id": "6qtRp_LwJNbI",
        "outputId": "804e5246-b990-48bf-8fe1-c0fb56ab369c"
      },
      "execution_count": 24,
      "outputs": [
        {
          "output_type": "execute_result",
          "data": {
            "text/plain": [
              "'Ankle boot'"
            ],
            "application/vnd.google.colaboratory.intrinsic+json": {
              "type": "string"
            }
          },
          "metadata": {},
          "execution_count": 24
        }
      ]
    },
    {
      "cell_type": "code",
      "source": [
        "i=50\n",
        "plt.xlabel(ytest1[i])\n",
        "plt.ylabel(Y_test[i])\n",
        "plt.imshow(X_test[i])"
      ],
      "metadata": {
        "colab": {
          "base_uri": "https://localhost:8080/",
          "height": 466
        },
        "id": "urZ4JcLHJ5zg",
        "outputId": "31f76b3f-ca36-4caa-8dc9-ac7d980e3014"
      },
      "execution_count": 61,
      "outputs": [
        {
          "output_type": "execute_result",
          "data": {
            "text/plain": [
              "<matplotlib.image.AxesImage at 0x78802dc2e8f0>"
            ]
          },
          "metadata": {},
          "execution_count": 61
        },
        {
          "output_type": "display_data",
          "data": {
            "text/plain": [
              "<Figure size 640x480 with 1 Axes>"
            ],
            "image/png": "[encoded data removed]"
          },
          "metadata": {}
        }
      ]
    }
  ]
}